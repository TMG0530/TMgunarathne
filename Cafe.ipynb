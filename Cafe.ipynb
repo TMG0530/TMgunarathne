{
  "nbformat": 4,
  "nbformat_minor": 0,
  "metadata": {
    "colab": {
      "provenance": []
    },
    "kernelspec": {
      "name": "python3",
      "display_name": "Python 3"
    },
    "language_info": {
      "name": "python"
    }
  },
  "cells": [
    {
      "cell_type": "code",
      "execution_count": null,
      "metadata": {
        "colab": {
          "base_uri": "https://localhost:8080/"
        },
        "id": "eyriJIYFRE7v",
        "outputId": "60c3e57a-13b1-468c-bd2b-0bf2136f5af4"
      },
      "outputs": [
        {
          "output_type": "stream",
          "name": "stdout",
          "text": [
            "{'id': 11, 'arrival_time': 721, 'prep_time': 1, 'start_time': None, 'end_time': None, 'wait_time': None}\n",
            "{'id': 18, 'arrival_time': 721, 'prep_time': 6, 'start_time': None, 'end_time': None, 'wait_time': None}\n",
            "{'id': 1, 'arrival_time': 724, 'prep_time': 6, 'start_time': None, 'end_time': None, 'wait_time': None}\n",
            "{'id': 9, 'arrival_time': 724, 'prep_time': 7, 'start_time': None, 'end_time': None, 'wait_time': None}\n",
            "{'id': 21, 'arrival_time': 725, 'prep_time': 5, 'start_time': None, 'end_time': None, 'wait_time': None}\n",
            "{'id': 23, 'arrival_time': 726, 'prep_time': 1, 'start_time': None, 'end_time': None, 'wait_time': None}\n",
            "{'id': 6, 'arrival_time': 727, 'prep_time': 3, 'start_time': None, 'end_time': None, 'wait_time': None}\n",
            "{'id': 20, 'arrival_time': 731, 'prep_time': 1, 'start_time': None, 'end_time': None, 'wait_time': None}\n",
            "{'id': 19, 'arrival_time': 735, 'prep_time': 7, 'start_time': None, 'end_time': None, 'wait_time': None}\n",
            "{'id': 2, 'arrival_time': 736, 'prep_time': 1, 'start_time': None, 'end_time': None, 'wait_time': None}\n",
            "{'id': 15, 'arrival_time': 737, 'prep_time': 4, 'start_time': None, 'end_time': None, 'wait_time': None}\n",
            "{'id': 8, 'arrival_time': 738, 'prep_time': 1, 'start_time': None, 'end_time': None, 'wait_time': None}\n",
            "{'id': 14, 'arrival_time': 738, 'prep_time': 4, 'start_time': None, 'end_time': None, 'wait_time': None}\n",
            "{'id': 16, 'arrival_time': 739, 'prep_time': 4, 'start_time': None, 'end_time': None, 'wait_time': None}\n",
            "{'id': 5, 'arrival_time': 741, 'prep_time': 2, 'start_time': None, 'end_time': None, 'wait_time': None}\n",
            "{'id': 13, 'arrival_time': 741, 'prep_time': 6, 'start_time': None, 'end_time': None, 'wait_time': None}\n",
            "{'id': 25, 'arrival_time': 741, 'prep_time': 4, 'start_time': None, 'end_time': None, 'wait_time': None}\n",
            "{'id': 7, 'arrival_time': 742, 'prep_time': 3, 'start_time': None, 'end_time': None, 'wait_time': None}\n",
            "{'id': 24, 'arrival_time': 743, 'prep_time': 6, 'start_time': None, 'end_time': None, 'wait_time': None}\n",
            "{'id': 10, 'arrival_time': 744, 'prep_time': 2, 'start_time': None, 'end_time': None, 'wait_time': None}\n",
            "{'id': 22, 'arrival_time': 744, 'prep_time': 6, 'start_time': None, 'end_time': None, 'wait_time': None}\n",
            "{'id': 17, 'arrival_time': 746, 'prep_time': 4, 'start_time': None, 'end_time': None, 'wait_time': None}\n",
            "{'id': 12, 'arrival_time': 749, 'prep_time': 6, 'start_time': None, 'end_time': None, 'wait_time': None}\n",
            "{'id': 3, 'arrival_time': 750, 'prep_time': 7, 'start_time': None, 'end_time': None, 'wait_time': None}\n",
            "{'id': 4, 'arrival_time': 750, 'prep_time': 4, 'start_time': None, 'end_time': None, 'wait_time': None}\n"
          ]
        }
      ],
      "source": [
        "#Generate Orders\n",
        "import random\n",
        "\n",
        "def generate_orders(num_orders=25):\n",
        "    orders = []\n",
        "    for i in range(1, num_orders + 1):\n",
        "        arrival_time = random.randint(720, 750)  # 12:00–12:30 in minutes\n",
        "        prep_time = random.randint(1, 7)         # 1–7 minutes\n",
        "        orders.append({\n",
        "            'id': i,\n",
        "            'arrival_time': arrival_time,\n",
        "            'prep_time': prep_time,\n",
        "            'start_time': None,\n",
        "            'end_time': None,\n",
        "            'wait_time': None\n",
        "        })\n",
        "    return sorted(orders, key=lambda x: x['arrival_time'])\n",
        "\n",
        "# Show sample generated orders\n",
        "orders = generate_orders()\n",
        "for o in orders:\n",
        "    print(o)\n"
      ]
    },
    {
      "cell_type": "code",
      "source": [
        "# Clock Simulation + FIFO Queue (First Come First Serve)\n",
        "\n",
        "from collections import deque\n",
        "\n",
        "def simulate_fifo(orders):\n",
        "    current_time = 720  # Start at 12:00 PM\n",
        "    end_time = 780      # Simulate until 1:00 PM (can be extended if needed)\n",
        "    cook_busy_until = 0\n",
        "    queue = deque()\n",
        "    order_index = 0\n",
        "    completed_orders = []\n",
        "\n",
        "    while len(completed_orders) < len(orders):\n",
        "        # Add new arrivals to queue\n",
        "        while order_index < len(orders) and orders[order_index]['arrival_time'] == current_time:\n",
        "            queue.append(orders[order_index])\n",
        "            order_index += 1\n",
        "\n",
        "        # If cook is free and queue is not empty, start next order\n",
        "        if current_time >= cook_busy_until and queue:\n",
        "            current_order = queue.popleft()\n",
        "            current_order['start_time'] = current_time\n",
        "            current_order['end_time'] = current_time + current_order['prep_time']\n",
        "            current_order['wait_time'] = current_order['start_time'] - current_order['arrival_time']\n",
        "            cook_busy_until = current_order['end_time']\n",
        "            completed_orders.append(current_order)\n",
        "\n",
        "        current_time += 1\n",
        "\n",
        "    return completed_orders\n"
      ],
      "metadata": {
        "id": "Ct4S_uu9Re5u"
      },
      "execution_count": null,
      "outputs": []
    },
    {
      "cell_type": "code",
      "source": [
        "#Result Summary\n",
        "def print_summary_results(strategy_name, completed_orders):\n",
        "    total_wait = sum(order['wait_time'] for order in completed_orders)\n",
        "    average_wait = total_wait / len(completed_orders)\n",
        "    max_wait = max(order['wait_time'] for order in completed_orders)\n",
        "\n",
        "    print(f\"\\n📌 Strategy: {strategy_name}\")\n",
        "    print(f\"Total Wait Time: {total_wait} minutes\")\n",
        "    print(f\"Average Wait Time: {average_wait:.2f} minutes\")\n",
        "    print(f\"Max Wait Time: {max_wait} minutes\")\n"
      ],
      "metadata": {
        "id": "h_mmIrg_SBDY"
      },
      "execution_count": null,
      "outputs": []
    },
    {
      "cell_type": "code",
      "source": [
        "# Step 1: Generate Orders\n",
        "orders = generate_orders()\n",
        "\n",
        "# Step 2: Simulate FIFO\n",
        "completed_orders_fifo = simulate_fifo(orders)\n",
        "\n",
        "# Step 3: Show Result\n",
        "print_summary_results(\"FIFO Queue\", completed_orders_fifo)\n"
      ],
      "metadata": {
        "colab": {
          "base_uri": "https://localhost:8080/"
        },
        "id": "xWuHHMgfSIxO",
        "outputId": "14981231-1016-49e7-f424-010fc67048f3"
      },
      "execution_count": null,
      "outputs": [
        {
          "output_type": "stream",
          "name": "stdout",
          "text": [
            "\n",
            "📌 Strategy: FIFO Queue\n",
            "Total Wait Time: 1124 minutes\n",
            "Average Wait Time: 44.96 minutes\n",
            "Max Wait Time: 88 minutes\n"
          ]
        }
      ]
    },
    {
      "cell_type": "code",
      "source": [
        "#Random Selection Strategy\n",
        "\n",
        "def simulate_random_selection(orders):\n",
        "    current_time = 720\n",
        "    cook_busy_until = 0\n",
        "    queue = []\n",
        "    order_index = 0\n",
        "    completed_orders = []\n",
        "\n",
        "    while len(completed_orders) < len(orders):\n",
        "        # Add newly arrived orders to queue\n",
        "        while order_index < len(orders) and orders[order_index]['arrival_time'] == current_time:\n",
        "            queue.append(orders[order_index])\n",
        "            order_index += 1\n",
        "\n",
        "        # If cook is free and queue is not empty\n",
        "        if current_time >= cook_busy_until and queue:\n",
        "            # Pick random order\n",
        "            current_order = random.choice(queue)\n",
        "            queue.remove(current_order)\n",
        "\n",
        "            current_order['start_time'] = current_time\n",
        "            current_order['end_time'] = current_time + current_order['prep_time']\n",
        "            current_order['wait_time'] = current_order['start_time'] - current_order['arrival_time']\n",
        "            cook_busy_until = current_order['end_time']\n",
        "\n",
        "            completed_orders.append(current_order)\n",
        "\n",
        "        current_time += 1\n",
        "\n",
        "    return completed_orders\n"
      ],
      "metadata": {
        "id": "8k7QjAvKSIhU"
      },
      "execution_count": null,
      "outputs": []
    },
    {
      "cell_type": "code",
      "source": [
        "#Compare With FIFO\n",
        "\n",
        "# Re-generate same orders for fair comparison\n",
        "orders_for_random = generate_orders()\n",
        "\n",
        "# Simulate\n",
        "completed_orders_random = simulate_random_selection(orders_for_random)\n",
        "\n",
        "# Show result\n",
        "print_summary_results(\"Random Selection\", completed_orders_random)\n"
      ],
      "metadata": {
        "colab": {
          "base_uri": "https://localhost:8080/"
        },
        "id": "QgtCjiLMSISi",
        "outputId": "3f6700ef-ea52-415d-c0c3-574f9ffcaac3"
      },
      "execution_count": null,
      "outputs": [
        {
          "output_type": "stream",
          "name": "stdout",
          "text": [
            "\n",
            "📌 Strategy: Random Selection\n",
            "Total Wait Time: 817 minutes\n",
            "Average Wait Time: 32.68 minutes\n",
            "Max Wait Time: 81 minutes\n"
          ]
        }
      ]
    },
    {
      "cell_type": "code",
      "source": [
        "#SJF Using Min-Heap\n",
        "\n",
        "#Among all arrived orders in the queue, pick the one with the shortest prep time.\n",
        "#Orders arriving later with short prep times can \"cut the line\", so we track fairness in the next step with aging."
      ],
      "metadata": {
        "id": "KAbuG9mdZ_gQ"
      },
      "execution_count": null,
      "outputs": []
    },
    {
      "cell_type": "code",
      "source": [
        "import heapq\n"
      ],
      "metadata": {
        "id": "yurxP7plSpjw"
      },
      "execution_count": null,
      "outputs": []
    },
    {
      "cell_type": "code",
      "source": [
        "def simulate_sjf_min_heap(orders):\n",
        "    current_time = 720\n",
        "    cook_busy_until = 0\n",
        "    heap = []\n",
        "    order_index = 0\n",
        "    completed_orders = []\n",
        "\n",
        "    while len(completed_orders) < len(orders):\n",
        "        # Add new arrivals to the heap (by prep_time, id)\n",
        "        while order_index < len(orders) and orders[order_index]['arrival_time'] == current_time:\n",
        "            order = orders[order_index]\n",
        "            heapq.heappush(heap, (order['prep_time'], order['id'], order))\n",
        "            order_index += 1\n",
        "\n",
        "        # If cook is free and heap is not empty\n",
        "        if current_time >= cook_busy_until and heap:\n",
        "            _, _, current_order = heapq.heappop(heap)\n",
        "            current_order['start_time'] = current_time\n",
        "            current_order['end_time'] = current_time + current_order['prep_time']\n",
        "            current_order['wait_time'] = current_order['start_time'] - current_order['arrival_time']\n",
        "            cook_busy_until = current_order['end_time']\n",
        "            completed_orders.append(current_order)\n",
        "\n",
        "        current_time += 1\n",
        "\n",
        "    return completed_orders\n",
        "\n"
      ],
      "metadata": {
        "id": "B8wOpm4ISpTx"
      },
      "execution_count": null,
      "outputs": []
    },
    {
      "cell_type": "code",
      "source": [
        "orders_for_sjf = generate_orders()\n",
        "completed_orders_sjf = simulate_sjf_min_heap(orders_for_sjf)\n",
        "print_summary_results(\"SJF using Min-Heap\", completed_orders_sjf)\n"
      ],
      "metadata": {
        "colab": {
          "base_uri": "https://localhost:8080/"
        },
        "id": "6Jh7NoCRSpF3",
        "outputId": "920c7167-4f79-448a-f749-389b09936142"
      },
      "execution_count": null,
      "outputs": [
        {
          "output_type": "stream",
          "name": "stdout",
          "text": [
            "\n",
            "📌 Strategy: SJF using Min-Heap\n",
            "Total Wait Time: 348 minutes\n",
            "Average Wait Time: 13.92 minutes\n",
            "Max Wait Time: 65 minutes\n"
          ]
        }
      ]
    },
    {
      "cell_type": "code",
      "source": [
        "#Priority Queue with Aging\n",
        "\n",
        "#SJF gives priority to small prep times. But what if a big order keeps getting ignored? Aging fixes that:\n",
        "#Over time, even large prep-time orders gain “priority points” and eventually get served.\n",
        "\n",
        "#priority = prep_time - aging_factor * (current_time - arrival_time)\n"
      ],
      "metadata": {
        "id": "j7xoupo7aivL"
      },
      "execution_count": null,
      "outputs": []
    },
    {
      "cell_type": "code",
      "source": [
        "def simulate_priority_queue_with_aging(orders, aging_factor=0.1):\n",
        "    current_time = 720\n",
        "    cook_busy_until = 0\n",
        "    waiting_orders = []\n",
        "    order_index = 0\n",
        "    completed_orders = []\n",
        "\n",
        "    while len(completed_orders) < len(orders):\n",
        "        # Add new arrivals to the waiting list\n",
        "        while order_index < len(orders) and orders[order_index]['arrival_time'] == current_time:\n",
        "            waiting_orders.append(orders[order_index])\n",
        "            order_index += 1\n",
        "\n",
        "        # If cook is free and orders are waiting\n",
        "        if current_time >= cook_busy_until and waiting_orders:\n",
        "            heap = []\n",
        "\n",
        "            # Build heap with dynamic priority\n",
        "            for order in waiting_orders:\n",
        "                wait_time = current_time - order['arrival_time']\n",
        "                priority_score = order['prep_time'] - aging_factor * wait_time\n",
        "                heapq.heappush(heap, (priority_score, order['id'], order))\n",
        "\n",
        "            # Pick the order with the lowest (adjusted) prep_time\n",
        "            _, _, current_order = heapq.heappop(heap)\n",
        "            waiting_orders.remove(current_order)\n",
        "\n",
        "            current_order['start_time'] = current_time\n",
        "            current_order['end_time'] = current_time + current_order['prep_time']\n",
        "            current_order['wait_time'] = current_order['start_time'] - current_order['arrival_time']\n",
        "            cook_busy_until = current_order['end_time']\n",
        "            completed_orders.append(current_order)\n",
        "\n",
        "        current_time += 1\n",
        "\n",
        "    return completed_orders\n"
      ],
      "metadata": {
        "id": "Q6L1S_D9T7nk"
      },
      "execution_count": null,
      "outputs": []
    },
    {
      "cell_type": "code",
      "source": [
        "orders_for_aging = generate_orders()\n",
        "\n",
        "completed_orders_aging = simulate_priority_queue_with_aging(orders_for_aging)\n",
        "\n",
        "print_summary_results(\"Priority Queue with Aging\", completed_orders_aging)\n"
      ],
      "metadata": {
        "colab": {
          "base_uri": "https://localhost:8080/"
        },
        "id": "UtB14ifVT7fY",
        "outputId": "649935ab-ab94-42d7-c691-dce62a4f6f22"
      },
      "execution_count": null,
      "outputs": [
        {
          "output_type": "stream",
          "name": "stdout",
          "text": [
            "\n",
            "📌 Strategy: Priority Queue with Aging\n",
            "Total Wait Time: 755 minutes\n",
            "Average Wait Time: 30.20 minutes\n",
            "Max Wait Time: 81 minutes\n"
          ]
        }
      ]
    },
    {
      "cell_type": "code",
      "source": [
        "#visualize wait time comparison"
      ],
      "metadata": {
        "id": "ohKKRW3fUfJQ"
      },
      "execution_count": null,
      "outputs": []
    },
    {
      "cell_type": "code",
      "source": [
        "import matplotlib.pyplot as plt\n"
      ],
      "metadata": {
        "id": "l0IXiJ3CUfFq"
      },
      "execution_count": null,
      "outputs": []
    },
    {
      "cell_type": "code",
      "source": [
        "def plot_wait_time_comparison(results):\n",
        "    strategies = list(results.keys())\n",
        "    avg_waits = [result['average'] for result in results.values()]\n",
        "    max_waits = [result['max'] for result in results.values()]\n",
        "\n",
        "    plt.figure(figsize=(10, 6))\n",
        "    bars = plt.bar(strategies, avg_waits, color=['skyblue', 'orange', 'lightgreen', 'violet'])\n",
        "\n",
        "    # Add value labels on top of bars\n",
        "    for bar, val in zip(bars, avg_waits):\n",
        "        plt.text(bar.get_x() + bar.get_width()/2, bar.get_height() + 0.1, f'{val:.2f}', ha='center', fontsize=10)\n",
        "\n",
        "    plt.title(\"📊 Average Wait Time Comparison by Strategy\")\n",
        "    plt.xlabel(\"Order Handling Strategy\")\n",
        "    plt.ylabel(\"Average Wait Time (minutes)\")\n",
        "    plt.ylim(0, max(avg_waits) + 2)\n",
        "    plt.grid(axis='y', linestyle='--', alpha=0.7)\n",
        "    plt.tight_layout()\n",
        "    plt.show()\n"
      ],
      "metadata": {
        "id": "i-8yBTo6UfCk"
      },
      "execution_count": null,
      "outputs": []
    },
    {
      "cell_type": "code",
      "source": [
        "# Generate fresh orders for each strategy (or same set if preferred)\n",
        "results = {}\n",
        "\n",
        "# Random\n",
        "orders_random = generate_orders()\n",
        "completed_random = simulate_random_selection(orders_random)\n",
        "results[\"Random\"] = {\n",
        "    'average': sum(o['wait_time'] for o in completed_random) / len(completed_random),\n",
        "    'max': max(o['wait_time'] for o in completed_random)\n",
        "}\n",
        "\n",
        "# FIFO\n",
        "orders_fifo = generate_orders()\n",
        "completed_fifo = simulate_fifo(orders_fifo)\n",
        "results[\"FIFO\"] = {\n",
        "    'average': sum(o['wait_time'] for o in completed_fifo) / len(completed_fifo),\n",
        "    'max': max(o['wait_time'] for o in completed_fifo)\n",
        "}\n",
        "\n",
        "# SJF\n",
        "orders_sjf = generate_orders()\n",
        "completed_sjf = simulate_sjf_min_heap(orders_sjf)\n",
        "results[\"SJF (Min-Heap)\"] = {\n",
        "    'average': sum(o['wait_time'] for o in completed_sjf) / len(completed_sjf),\n",
        "    'max': max(o['wait_time'] for o in completed_sjf)\n",
        "}\n",
        "\n",
        "# Aging Priority Queue\n",
        "orders_aging = generate_orders()\n",
        "completed_aging = simulate_priority_queue_with_aging(orders_aging)\n",
        "results[\"Aging Priority Queue\"] = {\n",
        "    'average': sum(o['wait_time'] for o in completed_aging) / len(completed_aging),\n",
        "    'max': max(o['wait_time'] for o in completed_aging)\n",
        "}\n"
      ],
      "metadata": {
        "id": "VM5oHPBzUe_j"
      },
      "execution_count": null,
      "outputs": []
    },
    {
      "cell_type": "code",
      "source": [
        "plot_wait_time_comparison(results)\n"
      ],
      "metadata": {
        "colab": {
          "base_uri": "https://localhost:8080/",
          "height": 676
        },
        "id": "yBDx4E9HUe8d",
        "outputId": "ba6c6411-371e-4e28-b9e4-15bc264ad749"
      },
      "execution_count": null,
      "outputs": [
        {
          "output_type": "stream",
          "name": "stderr",
          "text": [
            "/tmp/ipython-input-16-538421342.py:18: UserWarning: Glyph 128202 (\\N{BAR CHART}) missing from font(s) DejaVu Sans.\n",
            "  plt.tight_layout()\n",
            "/usr/local/lib/python3.11/dist-packages/IPython/core/pylabtools.py:151: UserWarning: Glyph 128202 (\\N{BAR CHART}) missing from font(s) DejaVu Sans.\n",
            "  fig.canvas.print_figure(bytes_io, **kw)\n"
          ]
        },
        {
          "output_type": "display_data",
          "data": {
            "text/plain": [
              "<Figure size 1000x600 with 1 Axes>"
            ],
            "image/png": "[encoded data removed]"
          },
          "metadata": {}
        }
      ]
    },
    {
      "cell_type": "code",
      "source": [],
      "metadata": {
        "id": "sbLT6RPwUe0Y"
      },
      "execution_count": null,
      "outputs": []
    },
    {
      "cell_type": "code",
      "source": [
        "#Add predictive modeling (based on historical orders)\n",
        "#Use historical order data to predict prep time or expected wait time based on:\n",
        "#Time of day,Arrival pattern and Past order trends"
      ],
      "metadata": {
        "id": "cZUR4evyVy1I"
      },
      "execution_count": null,
      "outputs": []
    },
    {
      "cell_type": "code",
      "source": [
        "#Simulate or Collect Historical Data\n",
        "import pandas as pd\n",
        "\n",
        "def generate_historical_data(num_days=10, orders_per_day=25):\n",
        "    data = []\n",
        "    for day in range(1, num_days + 1):\n",
        "        for order_id in range(1, orders_per_day + 1):\n",
        "            arrival_time = random.randint(720, 750)\n",
        "            prep_time = random.randint(1, 7)\n",
        "            data.append({\n",
        "                'day': day,\n",
        "                'arrival_time': arrival_time,\n",
        "                'prep_time': prep_time\n",
        "            })\n",
        "    return pd.DataFrame(data)\n"
      ],
      "metadata": {
        "id": "LPNJ0caeVyxk"
      },
      "execution_count": null,
      "outputs": []
    },
    {
      "cell_type": "code",
      "source": [
        "# Generate 10 days of historical data\n",
        "historical_df = generate_historical_data()\n",
        "historical_df.head()\n"
      ],
      "metadata": {
        "colab": {
          "base_uri": "https://localhost:8080/",
          "height": 206
        },
        "id": "M8HJqis_Vyuf",
        "outputId": "fb24d73c-df51-4e19-c85f-495581bd0da5"
      },
      "execution_count": null,
      "outputs": [
        {
          "output_type": "execute_result",
          "data": {
            "text/plain": [
              "   day  arrival_time  prep_time\n",
              "0    1           743          2\n",
              "1    1           732          1\n",
              "2    1           729          4\n",
              "3    1           742          5\n",
              "4    1           750          6"
            ],
            "text/html": [
              "\n",
              "  <div id=\"df-35b4accb-7f1e-4e3a-8ee0-8f1bc79242d8\" class=\"colab-df-container\">\n",
              "    <div>\n",
              "<style scoped>\n",
              "    .dataframe tbody tr th:only-of-type {\n",
              "        vertical-align: middle;\n",
              "    }\n",
              "\n",
              "    .dataframe tbody tr th {\n",
              "        vertical-align: top;\n",
              "    }\n",
              "\n",
              "    .dataframe thead th {\n",
              "        text-align: right;\n",
              "    }\n",
              "</style>\n",
              "<table border=\"1\" class=\"dataframe\">\n",
              "  <thead>\n",
              "    <tr style=\"text-align: right;\">\n",
              "      <th></th>\n",
              "      <th>day</th>\n",
              "      <th>arrival_time</th>\n",
              "      <th>prep_time</th>\n",
              "    </tr>\n",
              "  </thead>\n",
              "  <tbody>\n",
              "    <tr>\n",
              "      <th>0</th>\n",
              "      <td>1</td>\n",
              "      <td>743</td>\n",
              "      <td>2</td>\n",
              "    </tr>\n",
              "    <tr>\n",
              "      <th>1</th>\n",
              "      <td>1</td>\n",
              "      <td>732</td>\n",
              "      <td>1</td>\n",
              "    </tr>\n",
              "    <tr>\n",
              "      <th>2</th>\n",
              "      <td>1</td>\n",
              "      <td>729</td>\n",
              "      <td>4</td>\n",
              "    </tr>\n",
              "    <tr>\n",
              "      <th>3</th>\n",
              "      <td>1</td>\n",
              "      <td>742</td>\n",
              "      <td>5</td>\n",
              "    </tr>\n",
              "    <tr>\n",
              "      <th>4</th>\n",
              "      <td>1</td>\n",
              "      <td>750</td>\n",
              "      <td>6</td>\n",
              "    </tr>\n",
              "  </tbody>\n",
              "</table>\n",
              "</div>\n",
              "    <div class=\"colab-df-buttons\">\n",
              "\n",
              "  <div class=\"colab-df-container\">\n",
              "    <button class=\"colab-df-convert\" onclick=\"convertToInteractive('df-35b4accb-7f1e-4e3a-8ee0-8f1bc79242d8')\"\n",
              "            title=\"Convert this dataframe to an interactive table.\"\n",
              "            style=\"display:none;\">\n",
              "\n",
              "  <svg xmlns=\"http://www.w3.org/2000/svg\" height=\"24px\" viewBox=\"0 -960 960 960\">\n",
              "    <path d=\"M120-120v-720h720v720H120Zm60-500h600v-160H180v160Zm220 220h160v-160H400v160Zm0 220h160v-160H400v160ZM180-400h160v-160H180v160Zm440 0h160v-160H620v160ZM180-180h160v-160H180v160Zm440 0h160v-160H620v160Z\"/>\n",
              "  </svg>\n",
              "    </button>\n",
              "\n",
              "  <style>\n",
              "    .colab-df-container {\n",
              "      display:flex;\n",
              "      gap: 12px;\n",
              "    }\n",
              "\n",
              "    .colab-df-convert {\n",
              "      background-color: #E8F0FE;\n",
              "      border: none;\n",
              "      border-radius: 50%;\n",
              "      cursor: pointer;\n",
              "      display: none;\n",
              "      fill: #1967D2;\n",
              "      height: 32px;\n",
              "      padding: 0 0 0 0;\n",
              "      width: 32px;\n",
              "    }\n",
              "\n",
              "    .colab-df-convert:hover {\n",
              "      background-color: #E2EBFA;\n",
              "      box-shadow: 0px 1px 2px rgba(60, 64, 67, 0.3), 0px 1px 3px 1px rgba(60, 64, 67, 0.15);\n",
              "      fill: #174EA6;\n",
              "    }\n",
              "\n",
              "    .colab-df-buttons div {\n",
              "      margin-bottom: 4px;\n",
              "    }\n",
              "\n",
              "    [theme=dark] .colab-df-convert {\n",
              "      background-color: #3B4455;\n",
              "      fill: #D2E3FC;\n",
              "    }\n",
              "\n",
              "    [theme=dark] .colab-df-convert:hover {\n",
              "      background-color: #434B5C;\n",
              "      box-shadow: 0px 1px 3px 1px rgba(0, 0, 0, 0.15);\n",
              "      filter: drop-shadow(0px 1px 2px rgba(0, 0, 0, 0.3));\n",
              "      fill: #FFFFFF;\n",
              "    }\n",
              "  </style>\n",
              "\n",
              "    <script>\n",
              "      const buttonEl =\n",
              "        document.querySelector('#df-35b4accb-7f1e-4e3a-8ee0-8f1bc79242d8 button.colab-df-convert');\n",
              "      buttonEl.style.display =\n",
              "        google.colab.kernel.accessAllowed ? 'block' : 'none';\n",
              "\n",
              "      async function convertToInteractive(key) {\n",
              "        const element = document.querySelector('#df-35b4accb-7f1e-4e3a-8ee0-8f1bc79242d8');\n",
              "        const dataTable =\n",
              "          await google.colab.kernel.invokeFunction('convertToInteractive',\n",
              "                                                    [key], {});\n",
              "        if (!dataTable) return;\n",
              "\n",
              "        const docLinkHtml = 'Like what you see? Visit the ' +\n",
              "          '<a target=\"_blank\" href=https://colab.research.google.com/notebooks/data_table.ipynb>data table notebook</a>'\n",
              "          + ' to learn more about interactive tables.';\n",
              "        element.innerHTML = '';\n",
              "        dataTable['output_type'] = 'display_data';\n",
              "        await google.colab.output.renderOutput(dataTable, element);\n",
              "        const docLink = document.createElement('div');\n",
              "        docLink.innerHTML = docLinkHtml;\n",
              "        element.appendChild(docLink);\n",
              "      }\n",
              "    </script>\n",
              "  </div>\n",
              "\n",
              "\n",
              "    <div id=\"df-18504cab-b088-42bb-b6ca-1a34653fa9c0\">\n",
              "      <button class=\"colab-df-quickchart\" onclick=\"quickchart('df-18504cab-b088-42bb-b6ca-1a34653fa9c0')\"\n",
              "                title=\"Suggest charts\"\n",
              "                style=\"display:none;\">\n",
              "\n",
              "<svg xmlns=\"http://www.w3.org/2000/svg\" height=\"24px\"viewBox=\"0 0 24 24\"\n",
              "     width=\"24px\">\n",
              "    <g>\n",
              "        <path d=\"M19 3H5c-1.1 0-2 .9-2 2v14c0 1.1.9 2 2 2h14c1.1 0 2-.9 2-2V5c0-1.1-.9-2-2-2zM9 17H7v-7h2v7zm4 0h-2V7h2v10zm4 0h-2v-4h2v4z\"/>\n",
              "    </g>\n",
              "</svg>\n",
              "      </button>\n",
              "\n",
              "<style>\n",
              "  .colab-df-quickchart {\n",
              "      --bg-color: #E8F0FE;\n",
              "      --fill-color: #1967D2;\n",
              "      --hover-bg-color: #E2EBFA;\n",
              "      --hover-fill-color: #174EA6;\n",
              "      --disabled-fill-color: #AAA;\n",
              "      --disabled-bg-color: #DDD;\n",
              "  }\n",
              "\n",
              "  [theme=dark] .colab-df-quickchart {\n",
              "      --bg-color: #3B4455;\n",
              "      --fill-color: #D2E3FC;\n",
              "      --hover-bg-color: #434B5C;\n",
              "      --hover-fill-color: #FFFFFF;\n",
              "      --disabled-bg-color: #3B4455;\n",
              "      --disabled-fill-color: #666;\n",
              "  }\n",
              "\n",
              "  .colab-df-quickchart {\n",
              "    background-color: var(--bg-color);\n",
              "    border: none;\n",
              "    border-radius: 50%;\n",
              "    cursor: pointer;\n",
              "    display: none;\n",
              "    fill: var(--fill-color);\n",
              "    height: 32px;\n",
              "    padding: 0;\n",
              "    width: 32px;\n",
              "  }\n",
              "\n",
              "  .colab-df-quickchart:hover {\n",
              "    background-color: var(--hover-bg-color);\n",
              "    box-shadow: 0 1px 2px rgba(60, 64, 67, 0.3), 0 1px 3px 1px rgba(60, 64, 67, 0.15);\n",
              "    fill: var(--button-hover-fill-color);\n",
              "  }\n",
              "\n",
              "  .colab-df-quickchart-complete:disabled,\n",
              "  .colab-df-quickchart-complete:disabled:hover {\n",
              "    background-color: var(--disabled-bg-color);\n",
              "    fill: var(--disabled-fill-color);\n",
              "    box-shadow: none;\n",
              "  }\n",
              "\n",
              "  .colab-df-spinner {\n",
              "    border: 2px solid var(--fill-color);\n",
              "    border-color: transparent;\n",
              "    border-bottom-color: var(--fill-color);\n",
              "    animation:\n",
              "      spin 1s steps(1) infinite;\n",
              "  }\n",
              "\n",
              "  @keyframes spin {\n",
              "    0% {\n",
              "      border-color: transparent;\n",
              "      border-bottom-color: var(--fill-color);\n",
              "      border-left-color: var(--fill-color);\n",
              "    }\n",
              "    20% {\n",
              "      border-color: transparent;\n",
              "      border-left-color: var(--fill-color);\n",
              "      border-top-color: var(--fill-color);\n",
              "    }\n",
              "    30% {\n",
              "      border-color: transparent;\n",
              "      border-left-color: var(--fill-color);\n",
              "      border-top-color: var(--fill-color);\n",
              "      border-right-color: var(--fill-color);\n",
              "    }\n",
              "    40% {\n",
              "      border-color: transparent;\n",
              "      border-right-color: var(--fill-color);\n",
              "      border-top-color: var(--fill-color);\n",
              "    }\n",
              "    60% {\n",
              "      border-color: transparent;\n",
              "      border-right-color: var(--fill-color);\n",
              "    }\n",
              "    80% {\n",
              "      border-color: transparent;\n",
              "      border-right-color: var(--fill-color);\n",
              "      border-bottom-color: var(--fill-color);\n",
              "    }\n",
              "    90% {\n",
              "      border-color: transparent;\n",
              "      border-bottom-color: var(--fill-color);\n",
              "    }\n",
              "  }\n",
              "</style>\n",
              "\n",
              "      <script>\n",
              "        async function quickchart(key) {\n",
              "          const quickchartButtonEl =\n",
              "            document.querySelector('#' + key + ' button');\n",
              "          quickchartButtonEl.disabled = true;  // To prevent multiple clicks.\n",
              "          quickchartButtonEl.classList.add('colab-df-spinner');\n",
              "          try {\n",
              "            const charts = await google.colab.kernel.invokeFunction(\n",
              "                'suggestCharts', [key], {});\n",
              "          } catch (error) {\n",
              "            console.error('Error during call to suggestCharts:', error);\n",
              "          }\n",
              "          quickchartButtonEl.classList.remove('colab-df-spinner');\n",
              "          quickchartButtonEl.classList.add('colab-df-quickchart-complete');\n",
              "        }\n",
              "        (() => {\n",
              "          let quickchartButtonEl =\n",
              "            document.querySelector('#df-18504cab-b088-42bb-b6ca-1a34653fa9c0 button');\n",
              "          quickchartButtonEl.style.display =\n",
              "            google.colab.kernel.accessAllowed ? 'block' : 'none';\n",
              "        })();\n",
              "      </script>\n",
              "    </div>\n",
              "\n",
              "    </div>\n",
              "  </div>\n"
            ],
            "application/vnd.google.colaboratory.intrinsic+json": {
              "type": "dataframe",
              "variable_name": "historical_df",
              "summary": "{\n  \"name\": \"historical_df\",\n  \"rows\": 250,\n  \"fields\": [\n    {\n      \"column\": \"day\",\n      \"properties\": {\n        \"dtype\": \"number\",\n        \"std\": 2,\n        \"min\": 1,\n        \"max\": 10,\n        \"num_unique_values\": 10,\n        \"samples\": [\n          9,\n          2,\n          6\n        ],\n        \"semantic_type\": \"\",\n        \"description\": \"\"\n      }\n    },\n    {\n      \"column\": \"arrival_time\",\n      \"properties\": {\n        \"dtype\": \"number\",\n        \"std\": 8,\n        \"min\": 720,\n        \"max\": 750,\n        \"num_unique_values\": 31,\n        \"samples\": [\n          747,\n          748,\n          728\n        ],\n        \"semantic_type\": \"\",\n        \"description\": \"\"\n      }\n    },\n    {\n      \"column\": \"prep_time\",\n      \"properties\": {\n        \"dtype\": \"number\",\n        \"std\": 1,\n        \"min\": 1,\n        \"max\": 7,\n        \"num_unique_values\": 7,\n        \"samples\": [\n          2,\n          1,\n          7\n        ],\n        \"semantic_type\": \"\",\n        \"description\": \"\"\n      }\n    }\n  ]\n}"
            }
          },
          "metadata": {},
          "execution_count": 26
        }
      ]
    },
    {
      "cell_type": "code",
      "source": [
        "# Build a Simple Predictive Model\n",
        "#predict prep_time based on arrival_time using linear regression\n",
        "\n",
        "from sklearn.linear_model import LinearRegression\n",
        "from sklearn.model_selection import train_test_split\n",
        "\n",
        "def build_prep_time_model(df):\n",
        "    X = df[['arrival_time']]\n",
        "    y = df['prep_time']\n",
        "\n",
        "    X_train, X_test, y_train, y_test = train_test_split(X, y, test_size=0.2, random_state=42)\n",
        "\n",
        "    model = LinearRegression()\n",
        "    model.fit(X_train, y_train)\n",
        "\n",
        "    return model\n"
      ],
      "metadata": {
        "id": "kqRNk7dlVyri"
      },
      "execution_count": null,
      "outputs": []
    },
    {
      "cell_type": "code",
      "source": [
        "#Use the Model to Predict Prep Times (apply it to new order arrivals)\n",
        "def predict_prep_times(model, orders_df):\n",
        "    X_new = pd.DataFrame({'arrival_time': [order['arrival_time'] for order in orders_df]})\n",
        "    predicted_prep_times = model.predict(X_new)\n",
        "\n",
        "    for i, order in enumerate(orders_df):\n",
        "        order['predicted_prep_time'] = predicted_prep_times[i]\n",
        "\n",
        "    return orders_df\n"
      ],
      "metadata": {
        "id": "axcFk-ODVyoL"
      },
      "execution_count": null,
      "outputs": []
    },
    {
      "cell_type": "code",
      "source": [
        "# Generate historical data\n",
        "historical_df = generate_historical_data()\n",
        "\n",
        "# Train the model\n",
        "model = build_prep_time_model(historical_df)\n",
        "\n",
        "# Generate new orders\n",
        "new_orders = generate_orders()\n",
        "\n",
        "# Predict prep times\n",
        "predicted_orders = predict_prep_times(model, new_orders)\n",
        "\n",
        "# Show predictions\n",
        "for order in predicted_orders:\n",
        "    print(f\"Arrival: {order['arrival_time']} | Predicted Prep Time: {order['predicted_prep_time']:.2f}\")\n"
      ],
      "metadata": {
        "colab": {
          "base_uri": "https://localhost:8080/"
        },
        "id": "pcZyfUd7T7WS",
        "outputId": "22460008-6783-46f0-d54f-cffa5a719175"
      },
      "execution_count": null,
      "outputs": [
        {
          "output_type": "stream",
          "name": "stdout",
          "text": [
            "Arrival: 722 | Predicted Prep Time: 3.92\n",
            "Arrival: 723 | Predicted Prep Time: 3.92\n",
            "Arrival: 724 | Predicted Prep Time: 3.92\n",
            "Arrival: 724 | Predicted Prep Time: 3.92\n",
            "Arrival: 724 | Predicted Prep Time: 3.92\n",
            "Arrival: 725 | Predicted Prep Time: 3.91\n",
            "Arrival: 725 | Predicted Prep Time: 3.91\n",
            "Arrival: 725 | Predicted Prep Time: 3.91\n",
            "Arrival: 726 | Predicted Prep Time: 3.91\n",
            "Arrival: 727 | Predicted Prep Time: 3.91\n",
            "Arrival: 727 | Predicted Prep Time: 3.91\n",
            "Arrival: 728 | Predicted Prep Time: 3.91\n",
            "Arrival: 728 | Predicted Prep Time: 3.91\n",
            "Arrival: 729 | Predicted Prep Time: 3.90\n",
            "Arrival: 731 | Predicted Prep Time: 3.90\n",
            "Arrival: 731 | Predicted Prep Time: 3.90\n",
            "Arrival: 731 | Predicted Prep Time: 3.90\n",
            "Arrival: 737 | Predicted Prep Time: 3.88\n",
            "Arrival: 740 | Predicted Prep Time: 3.88\n",
            "Arrival: 741 | Predicted Prep Time: 3.87\n",
            "Arrival: 743 | Predicted Prep Time: 3.87\n",
            "Arrival: 744 | Predicted Prep Time: 3.87\n",
            "Arrival: 746 | Predicted Prep Time: 3.86\n",
            "Arrival: 746 | Predicted Prep Time: 3.86\n",
            "Arrival: 747 | Predicted Prep Time: 3.86\n"
          ]
        }
      ]
    },
    {
      "cell_type": "code",
      "source": [],
      "metadata": {
        "id": "bHdm7zwoX6Pp"
      },
      "execution_count": null,
      "outputs": []
    },
    {
      "cell_type": "code",
      "source": [
        "#Show the Best Order Selection Strategy"
      ],
      "metadata": {
        "id": "qyXINqS_X6GB"
      },
      "execution_count": null,
      "outputs": []
    },
    {
      "cell_type": "code",
      "source": [
        "def plot_metric_comparison(results, metric='average', title='Average Wait Time'):\n",
        "    strategies = list(results.keys())\n",
        "    values = [result[metric] for result in results.values()]\n",
        "\n",
        "    plt.figure(figsize=(10, 6))\n",
        "    bars = plt.bar(strategies, values, color='teal')\n",
        "\n",
        "    for bar, val in zip(bars, values):\n",
        "        plt.text(bar.get_x() + bar.get_width()/2, bar.get_height() + 0.1, f'{val:.2f}', ha='center', fontsize=10)\n",
        "\n",
        "    plt.title(f\"📊 {title} by Strategy\")\n",
        "    plt.ylabel(\"Minutes\")\n",
        "    plt.ylim(0, max(values) + 2)\n",
        "    plt.grid(axis='y', linestyle='--', alpha=0.7)\n",
        "    plt.tight_layout()\n",
        "    plt.show()\n"
      ],
      "metadata": {
        "id": "OM27jHR8X8yv"
      },
      "execution_count": null,
      "outputs": []
    },
    {
      "cell_type": "code",
      "source": [
        "plot_metric_comparison(results, metric='average', title='Average Wait Time')\n",
        "plot_metric_comparison(results, metric='max', title='Maximum Wait Time')\n"
      ],
      "metadata": {
        "colab": {
          "base_uri": "https://localhost:8080/",
          "height": 1000
        },
        "id": "KMLMzJOrX8sn",
        "outputId": "5b07719b-7f70-4ce1-f2bf-e6f994c2dc95"
      },
      "execution_count": null,
      "outputs": [
        {
          "output_type": "stream",
          "name": "stderr",
          "text": [
            "/tmp/ipython-input-30-2627155741.py:15: UserWarning: Glyph 128202 (\\N{BAR CHART}) missing from font(s) DejaVu Sans.\n",
            "  plt.tight_layout()\n",
            "/usr/local/lib/python3.11/dist-packages/IPython/core/pylabtools.py:151: UserWarning: Glyph 128202 (\\N{BAR CHART}) missing from font(s) DejaVu Sans.\n",
            "  fig.canvas.print_figure(bytes_io, **kw)\n"
          ]
        },
        {
          "output_type": "display_data",
          "data": {
            "text/plain": [
              "<Figure size 1000x600 with 1 Axes>"
            ],
            "image/png": "[encoded data removed]"
          },
          "metadata": {}
        },
        {
          "output_type": "display_data",
          "data": {
            "text/plain": [
              "<Figure size 1000x600 with 1 Axes>"
            ],
            "image/png": "[encoded data removed]"
          },
          "metadata": {}
        }
      ]
    },
    {
      "cell_type": "code",
      "source": [
        "#Final Recommendation\n",
        "#Based on our simulation of 25 random orders using four different strategies, we observed that the Shortest Job First (Min-Heap) algorithm had the lowest average wait time.\n",
        "#However, it risks unfair delays for long orders. By introducing an aging mechanism, the Priority Queue with Aging strategy offered a better balance between performance and fairness, making it the most practical and scalable solution for real university canteens."
      ],
      "metadata": {
        "id": "CJqxM-ybX8pR"
      },
      "execution_count": null,
      "outputs": []
    },
    {
      "cell_type": "code",
      "source": [],
      "metadata": {
        "id": "9DZhQkpjX8fN"
      },
      "execution_count": null,
      "outputs": []
    }
  ]
}